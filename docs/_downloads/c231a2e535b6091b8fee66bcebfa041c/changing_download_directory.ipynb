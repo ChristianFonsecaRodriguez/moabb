{
  "cells": [
    {
      "cell_type": "code",
      "execution_count": null,
      "metadata": {
        "collapsed": false
      },
      "outputs": [],
      "source": [
        "%matplotlib inline"
      ]
    },
    {
      "cell_type": "markdown",
      "metadata": {},
      "source": [
        "\n# Change Download Directory\n\nThis is a minimal example to demonstrate how to change the default data download directory to a custom\npath/location.\n"
      ]
    },
    {
      "cell_type": "code",
      "execution_count": null,
      "metadata": {
        "collapsed": false
      },
      "outputs": [],
      "source": [
        "# Authors: Divyesh Narayanan <divyesh.narayanan@gmail.com>\n#\n# License: BSD (3-clause)\n\nimport os.path as osp\n\nfrom mne import get_config\n\nfrom moabb.utils import set_download_dir\n\n\n# You can choose to change the download directory to any path of your choice.\n# If the path/folder doesn't exist, it will be created for you.\n\noriginal_path = get_config(\"MNE_DATA\")\nprint(f\"The download directory is currently {original_path}\")\nnew_path = osp.join(osp.expanduser(\"~\"), \"mne_data_test\")\nset_download_dir(new_path)\n\n# To see if the mne config has been changed correctly\ncheck_path = get_config(\"MNE_DATA\")\nprint(f\"Now the download directory has been changed to {check_path}\")\n\n# Set the directory back to default location\nset_download_dir(original_path)"
      ]
    }
  ],
  "metadata": {
    "kernelspec": {
      "display_name": "Python 3",
      "language": "python",
      "name": "python3"
    },
    "language_info": {
      "codemirror_mode": {
        "name": "ipython",
        "version": 3
      },
      "file_extension": ".py",
      "mimetype": "text/x-python",
      "name": "python",
      "nbconvert_exporter": "python",
      "pygments_lexer": "ipython3",
      "version": "3.9.10"
    }
  },
  "nbformat": 4,
  "nbformat_minor": 0
}